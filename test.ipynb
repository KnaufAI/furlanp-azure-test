{
 "cells": [
  {
   "cell_type": "code",
   "execution_count": 1,
   "metadata": {},
   "outputs": [
    {
     "name": "stderr",
     "output_type": "stream",
     "text": [
      "Found the config file in: config.json\n"
     ]
    }
   ],
   "source": [
    "from azure.ai.ml import MLClient\n",
    "from azure.identity import DefaultAzureCredential\n",
    "\n",
    "ml_client = MLClient.from_config(\n",
    "    credential=DefaultAzureCredential(),\n",
    "    path=\"config.json\",\n",
    ")"
   ]
  },
  {
   "cell_type": "code",
   "execution_count": 34,
   "metadata": {},
   "outputs": [
    {
     "name": "stdout",
     "output_type": "stream",
     "text": [
      "4\n"
     ]
    }
   ],
   "source": [
    "from azure.ai.ml.entities import Model\n",
    "from azure.ai.ml.constants import AssetTypes\n",
    "\n",
    "model_name = \"furlan-test-model\"\n",
    "\n",
    "model = Model(\n",
    "    path=\"model.joblib\",\n",
    "    type=AssetTypes.CUSTOM_MODEL,\n",
    "    name=model_name,\n",
    "    description=\"furlan-test-model\",\n",
    ")\n",
    "\n",
    "ml_client.models.create_or_update(model)"
   ]
  },
  {
   "cell_type": "code",
   "execution_count": 48,
   "metadata": {},
   "outputs": [
    {
     "name": "stdout",
     "output_type": "stream",
     "text": [
      "10\n"
     ]
    }
   ],
   "source": [
    "from azure.ai.ml.entities import Environment\n",
    "\n",
    "env_name = \"furlanp-test-environment\"\n",
    "\n",
    "env = Environment(\n",
    "    name=env_name,\n",
    "    conda_file=\"conda.yaml\",\n",
    "    image=\"mcr.microsoft.com/azureml/openmpi4.1.0-ubuntu20.04\",\n",
    ")\n",
    "ml_client.environments.create_or_update(env)\n",
    "\n",
    "latest_env_version = max([\n",
    "    int(e.version) for e in ml_client.environments.list(name=env_name)\n",
    "])\n",
    "\n",
    "print(latest_env_version)"
   ]
  },
  {
   "cell_type": "markdown",
   "metadata": {},
   "source": [
    "by default azure takes\n",
    "az login\n",
    "az ml workspace update --name mlw-ki-ds-s --resource-group rg-ki-ds-s --image-build-compute FurlanP1"
   ]
  },
  {
   "cell_type": "code",
   "execution_count": 36,
   "metadata": {},
   "outputs": [
    {
     "name": "stdout",
     "output_type": "stream",
     "text": [
      "Endpoint \"furlanp-test-endpoint\" with provisioning state \"Succeeded\" is retrieved\n"
     ]
    }
   ],
   "source": [
    "from azure.ai.ml.entities import ManagedOnlineEndpoint\n",
    "\n",
    "endpoint_name = \"furlanp-test-endpoint\"\n",
    "\n",
    "endpoint = ManagedOnlineEndpoint(\n",
    "    name=endpoint_name,\n",
    "    description=\"furlanp-test-endpoint\",\n",
    "    auth_mode=\"key\",\n",
    ")\n",
    "\n",
    "endpoint = ml_client.online_endpoints.begin_create_or_update(endpoint).result()\n",
    "\n",
    "endpoint = ml_client.online_endpoints.get(name=endpoint_name)\n",
    "\n",
    "print(\n",
    "    f'Endpoint \"{endpoint.name}\" with provisioning state \"{endpoint.provisioning_state}\" is retrieved'\n",
    ")\n"
   ]
  },
  {
   "cell_type": "code",
   "execution_count": 49,
   "metadata": {},
   "outputs": [
    {
     "name": "stderr",
     "output_type": "stream",
     "text": [
      "Check: endpoint furlanp-test-endpoint exists\n",
      "\u001b[32mUploading furlanp-azure-test (0.1 MBs): 100%|██████████| 97505/97505 [00:00<00:00, 201484.51it/s]\n",
      "\u001b[39m\n",
      "\n"
     ]
    },
    {
     "name": "stdout",
     "output_type": "stream",
     "text": [
      "....................................................................."
     ]
    }
   ],
   "source": [
    "from azure.ai.ml.entities import ManagedOnlineDeployment\n",
    "from azure.ai.ml.entities import CodeConfiguration\n",
    "\n",
    "model_name = \"furlan-test-model\"\n",
    "latest_model_version = max([int(m.version) for m in ml_client.models.list(name=model_name)])\n",
    "model = ml_client.models.get(name=model_name, version=latest_model_version)\n",
    "\n",
    "env_name = \"furlanp-test-environment\"\n",
    "latest_env_version = max([int(e.version) for e in ml_client.environments.list(name=env_name)])\n",
    "env = ml_client.environments.get(name=env_name, version=latest_env_version)\n",
    "\n",
    "endpoint_name = \"furlanp-test-endpoint\"\n",
    "\n",
    "blue_deployment = ManagedOnlineDeployment(\n",
    "    name=\"blue\",\n",
    "    endpoint_name=endpoint_name,\n",
    "    model=model,\n",
    "    environment=env,\n",
    "    code_configuration=CodeConfiguration(\".\", \"score.py\"), \n",
    "    egress_public_network_access=\"disabled\",\n",
    ")\n",
    "\n",
    "blue_deployment = ml_client.online_deployments.begin_create_or_update(blue_deployment).result()\n"
   ]
  },
  {
   "cell_type": "code",
   "execution_count": 55,
   "metadata": {},
   "outputs": [
    {
     "name": "stdout",
     "output_type": "stream",
     "text": [
      "{'blue': 0} https://furlanp-test-endpoint.westeurope.inference.ml.azure.com/score\n",
      "Instance status:\n",
      "SystemSetup: Succeeded\n",
      "UserContainerImagePull: Succeeded\n",
      "ModelDownload: Succeeded\n",
      "UserContainerStart: Succeeded\n",
      "\n",
      "Container events:\n",
      "Kind: Pod, Name: Pulling, Type: Normal, Time: 2024-09-25T11:59:15.904736Z, Message: Start pulling container image\n",
      "Kind: Pod, Name: Downloading, Type: Normal, Time: 2024-09-25T11:59:15.917266Z, Message: Start downloading models\n",
      "Kind: Pod, Name: Pulled, Type: Normal, Time: 2024-09-25T11:59:37.495032Z, Message: Container image is pulled successfully\n",
      "Kind: Pod, Name: Downloaded, Type: Normal, Time: 2024-09-25T11:59:37.495032Z, Message: Models are downloaded successfully\n",
      "Kind: Pod, Name: Created, Type: Normal, Time: 2024-09-25T11:59:37.567938Z, Message: Created container inference-server\n",
      "Kind: Pod, Name: Started, Type: Normal, Time: 2024-09-25T11:59:37.615229Z, Message: Started container inference-server\n",
      "Kind: Pod, Name: ContainerReady, Type: Normal, Time: 2024-09-25T11:59:52.176793198Z, Message: Container is ready\n",
      "\n",
      "Container logs:\n",
      "2024-09-25 12:22:58,887 I [71] gunicorn.access - 127.0.0.1 - - [25/Sep/2024:12:22:58 +0000] \"GET / HTTP/1.0\" 200 7 \"-\" \"kube-probe/1.18\"\n",
      "2024-09-25 12:22:59,469 I [71] gunicorn.access - 127.0.0.1 - - [25/Sep/2024:12:22:59 +0000] \"GET / HTTP/1.0\" 200 7 \"-\" \"kube-probe/1.18\"\n",
      "2024-09-25 12:23:08,887 I [71] gunicorn.access - 127.0.0.1 - - [25/Sep/2024:12:23:08 +0000] \"GET / HTTP/1.0\" 200 7 \"-\" \"kube-probe/1.18\"\n",
      "2024-09-25 12:23:09,470 I [71] gunicorn.access - 127.0.0.1 - - [25/Sep/2024:12:23:09 +0000] \"GET / HTTP/1.0\" 200 7 \"-\" \"kube-probe/1.18\"\n",
      "2024-09-25 12:23:18,887 I [71] gunicorn.access - 127.0.0.1 - - [25/Sep/2024:12:23:18 +0000] \"GET / HTTP/1.0\" 200 7 \"-\" \"kube-probe/1.18\"\n",
      "2024-09-25 12:23:19,469 I [71] gunicorn.access - 127.0.0.1 - - [25/Sep/2024:12:23:19 +0000] \"GET / HTTP/1.0\" 200 7 \"-\" \"kube-probe/1.18\"\n",
      "2024-09-25 12:23:28,887 I [71] gunicorn.access - 127.0.0.1 - - [25/Sep/2024:12:23:28 +0000] \"GET / HTTP/1.0\" 200 7 \"-\" \"kube-probe/1.18\"\n",
      "2024-09-25 12:23:29,469 I [71] gunicorn.access - 127.0.0.1 - - [25/Sep/2024:12:23:29 +0000] \"GET / HTTP/1.0\" 200 7 \"-\" \"kube-probe/1.18\"\n",
      "2024-09-25 12:23:38,887 I [71] gunicorn.access - 127.0.0.1 - - [25/Sep/2024:12:23:38 +0000] \"GET / HTTP/1.0\" 200 7 \"-\" \"kube-probe/1.18\"\n",
      "2024-09-25 12:23:39,469 I [71] gunicorn.access - 127.0.0.1 - - [25/Sep/2024:12:23:39 +0000] \"GET / HTTP/1.0\" 200 7 \"-\" \"kube-probe/1.18\"\n",
      "2024-09-25 12:23:48,887 I [71] gunicorn.access - 127.0.0.1 - - [25/Sep/2024:12:23:48 +0000] \"GET / HTTP/1.0\" 200 7 \"-\" \"kube-probe/1.18\"\n",
      "2024-09-25 12:23:49,469 I [71] gunicorn.access - 127.0.0.1 - - [25/Sep/2024:12:23:49 +0000] \"GET / HTTP/1.0\" 200 7 \"-\" \"kube-probe/1.18\"\n",
      "2024-09-25 12:23:58,887 I [71] gunicorn.access - 127.0.0.1 - - [25/Sep/2024:12:23:58 +0000] \"GET / HTTP/1.0\" 200 7 \"-\" \"kube-probe/1.18\"\n",
      "2024-09-25 12:23:59,469 I [71] gunicorn.access - 127.0.0.1 - - [25/Sep/2024:12:23:59 +0000] \"GET / HTTP/1.0\" 200 7 \"-\" \"kube-probe/1.18\"\n",
      "2024-09-25 12:24:08,887 I [71] gunicorn.access - 127.0.0.1 - - [25/Sep/2024:12:24:08 +0000] \"GET / HTTP/1.0\" 200 7 \"-\" \"kube-probe/1.18\"\n",
      "2024-09-25 12:24:09,469 I [71] gunicorn.access - 127.0.0.1 - - [25/Sep/2024:12:24:09 +0000] \"GET / HTTP/1.0\" 200 7 \"-\" \"kube-probe/1.18\"\n",
      "2024-09-25 12:24:18,887 I [71] gunicorn.access - 127.0.0.1 - - [25/Sep/2024:12:24:18 +0000] \"GET / HTTP/1.0\" 200 7 \"-\" \"kube-probe/1.18\"\n",
      "2024-09-25 12:24:19,469 I [71] gunicorn.access - 127.0.0.1 - - [25/Sep/2024:12:24:19 +0000] \"GET / HTTP/1.0\" 200 7 \"-\" \"kube-probe/1.18\"\n",
      "2024-09-25 12:24:28,887 I [71] gunicorn.access - 127.0.0.1 - - [25/Sep/2024:12:24:28 +0000] \"GET / HTTP/1.0\" 200 7 \"-\" \"kube-probe/1.18\"\n",
      "2024-09-25 12:24:29,469 I [71] gunicorn.access - 127.0.0.1 - - [25/Sep/2024:12:24:29 +0000] \"GET / HTTP/1.0\" 200 7 \"-\" \"kube-probe/1.18\"\n",
      "2024-09-25 12:24:38,887 I [71] gunicorn.access - 127.0.0.1 - - [25/Sep/2024:12:24:38 +0000] \"GET / HTTP/1.0\" 200 7 \"-\" \"kube-probe/1.18\"\n",
      "2024-09-25 12:24:39,469 I [71] gunicorn.access - 127.0.0.1 - - [25/Sep/2024:12:24:39 +0000] \"GET / HTTP/1.0\" 200 7 \"-\" \"kube-probe/1.18\"\n",
      "2024-09-25 12:24:48,887 I [71] gunicorn.access - 127.0.0.1 - - [25/Sep/2024:12:24:48 +0000] \"GET / HTTP/1.0\" 200 7 \"-\" \"kube-probe/1.18\"\n",
      "2024-09-25 12:24:49,469 I [71] gunicorn.access - 127.0.0.1 - - [25/Sep/2024:12:24:49 +0000] \"GET / HTTP/1.0\" 200 7 \"-\" \"kube-probe/1.18\"\n",
      "2024-09-25 12:24:58,887 I [71] gunicorn.access - 127.0.0.1 - - [25/Sep/2024:12:24:58 +0000] \"GET / HTTP/1.0\" 200 7 \"-\" \"kube-probe/1.18\"\n",
      "2024-09-25 12:24:59,469 I [71] gunicorn.access - 127.0.0.1 - - [25/Sep/2024:12:24:59 +0000] \"GET / HTTP/1.0\" 200 7 \"-\" \"kube-probe/1.18\"\n",
      "2024-09-25 12:25:08,887 I [71] gunicorn.access - 127.0.0.1 - - [25/Sep/2024:12:25:08 +0000] \"GET / HTTP/1.0\" 200 7 \"-\" \"kube-probe/1.18\"\n",
      "2024-09-25 12:25:09,470 I [71] gunicorn.access - 127.0.0.1 - - [25/Sep/2024:12:25:09 +0000] \"GET / HTTP/1.0\" 200 7 \"-\" \"kube-probe/1.18\"\n",
      "2024-09-25 12:25:18,887 I [71] gunicorn.access - 127.0.0.1 - - [25/Sep/2024:12:25:18 +0000] \"GET / HTTP/1.0\" 200 7 \"-\" \"kube-probe/1.18\"\n",
      "2024-09-25 12:25:19,469 I [71] gunicorn.access - 127.0.0.1 - - [25/Sep/2024:12:25:19 +0000] \"GET / HTTP/1.0\" 200 7 \"-\" \"kube-probe/1.18\"\n",
      "2024-09-25 12:25:28,887 I [71] gunicorn.access - 127.0.0.1 - - [25/Sep/2024:12:25:28 +0000] \"GET / HTTP/1.0\" 200 7 \"-\" \"kube-probe/1.18\"\n",
      "2024-09-25 12:25:29,469 I [71] gunicorn.access - 127.0.0.1 - - [25/Sep/2024:12:25:29 +0000] \"GET / HTTP/1.0\" 200 7 \"-\" \"kube-probe/1.18\"\n",
      "2024-09-25 12:25:38,887 I [71] gunicorn.access - 127.0.0.1 - - [25/Sep/2024:12:25:38 +0000] \"GET / HTTP/1.0\" 200 7 \"-\" \"kube-probe/1.18\"\n",
      "2024-09-25 12:25:39,469 I [71] gunicorn.access - 127.0.0.1 - - [25/Sep/2024:12:25:39 +0000] \"GET / HTTP/1.0\" 200 7 \"-\" \"kube-probe/1.18\"\n",
      "2024-09-25 12:25:48,887 I [71] gunicorn.access - 127.0.0.1 - - [25/Sep/2024:12:25:48 +0000] \"GET / HTTP/1.0\" 200 7 \"-\" \"kube-probe/1.18\"\n",
      "2024-09-25 12:25:49,469 I [71] gunicorn.access - 127.0.0.1 - - [25/Sep/2024:12:25:49 +0000] \"GET / HTTP/1.0\" 200 7 \"-\" \"kube-probe/1.18\"\n",
      "2024-09-25 12:25:58,887 I [71] gunicorn.access - 127.0.0.1 - - [25/Sep/2024:12:25:58 +0000] \"GET / HTTP/1.0\" 200 7 \"-\" \"kube-probe/1.18\"\n",
      "2024-09-25 12:25:59,469 I [71] gunicorn.access - 127.0.0.1 - - [25/Sep/2024:12:25:59 +0000] \"GET / HTTP/1.0\" 200 7 \"-\" \"kube-probe/1.18\"\n",
      "2024-09-25 12:26:08,887 I [71] gunicorn.access - 127.0.0.1 - - [25/Sep/2024:12:26:08 +0000] \"GET / HTTP/1.0\" 200 7 \"-\" \"kube-probe/1.18\"\n",
      "2024-09-25 12:26:09,469 I [71] gunicorn.access - 127.0.0.1 - - [25/Sep/2024:12:26:09 +0000] \"GET / HTTP/1.0\" 200 7 \"-\" \"kube-probe/1.18\"\n",
      "2024-09-25 12:26:18,887 I [71] gunicorn.access - 127.0.0.1 - - [25/Sep/2024:12:26:18 +0000] \"GET / HTTP/1.0\" 200 7 \"-\" \"kube-probe/1.18\"\n",
      "2024-09-25 12:26:19,469 I [71] gunicorn.access - 127.0.0.1 - - [25/Sep/2024:12:26:19 +0000] \"GET / HTTP/1.0\" 200 7 \"-\" \"kube-probe/1.18\"\n",
      "2024-09-25 12:26:28,887 I [71] gunicorn.access - 127.0.0.1 - - [25/Sep/2024:12:26:28 +0000] \"GET / HTTP/1.0\" 200 7 \"-\" \"kube-probe/1.18\"\n",
      "2024-09-25 12:26:29,469 I [71] gunicorn.access - 127.0.0.1 - - [25/Sep/2024:12:26:29 +0000] \"GET / HTTP/1.0\" 200 7 \"-\" \"kube-probe/1.18\"\n",
      "2024-09-25 12:26:38,887 I [71] gunicorn.access - 127.0.0.1 - - [25/Sep/2024:12:26:38 +0000] \"GET / HTTP/1.0\" 200 7 \"-\" \"kube-probe/1.18\"\n",
      "2024-09-25 12:26:39,469 I [71] gunicorn.access - 127.0.0.1 - - [25/Sep/2024:12:26:39 +0000] \"GET / HTTP/1.0\" 200 7 \"-\" \"kube-probe/1.18\"\n",
      "2024-09-25 12:26:48,887 I [71] gunicorn.access - 127.0.0.1 - - [25/Sep/2024:12:26:48 +0000] \"GET / HTTP/1.0\" 200 7 \"-\" \"kube-probe/1.18\"\n",
      "2024-09-25 12:26:49,469 I [71] gunicorn.access - 127.0.0.1 - - [25/Sep/2024:12:26:49 +0000] \"GET / HTTP/1.0\" 200 7 \"-\" \"kube-probe/1.18\"\n",
      "2024-09-25 12:26:53,693 I [71] azmlinfsrv - POST /score 200 0.899ms 305\n",
      "2024-09-25 12:26:53,693 I [71] gunicorn.access - 127.0.0.1 - - [25/Sep/2024:12:26:53 +0000] \"POST /score HTTP/1.0\" 200 305 \"-\" \"azure-ai-ml/1.19.0 azsdk-python-core/1.30.2 Python/3.12.0 (macOS-14.5-arm64-arm-64bit)\"\n",
      "\n",
      "\n"
     ]
    }
   ],
   "source": [
    "endpoint_name = \"furlanp-test-endpoint\"\n",
    "endpoint = ml_client.online_endpoints.get(name=endpoint_name)\n",
    "\n",
    "print(endpoint.traffic, endpoint.scoring_uri)\n",
    "\n",
    "\n",
    "ml_client.online_endpoints.invoke(\n",
    "    endpoint_name=endpoint_name,\n",
    "    deployment_name=\"blue\",\n",
    "    request_file=\"./sample_data.json\",\n",
    ")\n",
    "\n",
    "logs = ml_client.online_deployments.get_logs(\n",
    "    name=\"blue\", endpoint_name=endpoint_name, lines=50\n",
    ")\n",
    "\n",
    "print(logs)\n"
   ]
  },
  {
   "cell_type": "code",
   "execution_count": 74,
   "metadata": {},
   "outputs": [],
   "source": [
    "res = ml_client.online_endpoints.invoke(\n",
    "    endpoint_name=endpoint_name,\n",
    "    deployment_name=\"blue\",\n",
    "    request_file=\"./sample_data.json\",\n",
    ")"
   ]
  },
  {
   "cell_type": "code",
   "execution_count": 75,
   "metadata": {},
   "outputs": [
    {
     "data": {
      "text/plain": [
       "list"
      ]
     },
     "execution_count": 75,
     "metadata": {},
     "output_type": "execute_result"
    }
   ],
   "source": [
    "import json\n",
    "\n",
    "res = json.loads(res)\n",
    "\n",
    "type(res)"
   ]
  },
  {
   "cell_type": "code",
   "execution_count": 76,
   "metadata": {},
   "outputs": [
    {
     "name": "stdout",
     "output_type": "stream",
     "text": [
      "(2, 15)\n"
     ]
    }
   ],
   "source": [
    "import numpy as np\n",
    "res = np.array(res)\n",
    "\n",
    "print(res.shape)"
   ]
  },
  {
   "cell_type": "code",
   "execution_count": 59,
   "metadata": {},
   "outputs": [
    {
     "name": "stdout",
     "output_type": "stream",
     "text": [
      "b'No valid deployments to route to. Please check that the endpoint has at least one deployment with positive weight values or use a deployment specific header to route. [https://docs.microsoft.com/en-us/azure/machine-learning/how-to-safely-rollout-managed-endpoints#deploy-a-new-model-but-send-it-no-traffic-yet]\\nPlease check this guide to understand why this error code might have been returned \\nhttps://docs.microsoft.com/en-us/azure/machine-learning/how-to-troubleshoot-online-endpoints#http-status-codes\\n'\n"
     ]
    }
   ],
   "source": [
    "import requests\n",
    "\n",
    "key = ml_client.online_endpoints.get_keys(endpoint_name).primary_key\n",
    "\n",
    "res = requests.get(url=endpoint.scoring_uri, headers={\"Authorization\": f\"Bearer {key}\"})\n",
    "print(res.content)\n",
    "\n"
   ]
  }
 ],
 "metadata": {
  "kernelspec": {
   "display_name": "venv",
   "language": "python",
   "name": "python3"
  },
  "language_info": {
   "codemirror_mode": {
    "name": "ipython",
    "version": 3
   },
   "file_extension": ".py",
   "mimetype": "text/x-python",
   "name": "python",
   "nbconvert_exporter": "python",
   "pygments_lexer": "ipython3",
   "version": "3.12.0"
  }
 },
 "nbformat": 4,
 "nbformat_minor": 2
}
