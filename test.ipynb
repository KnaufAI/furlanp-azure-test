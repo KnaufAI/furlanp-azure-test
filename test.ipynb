{
 "cells": [
  {
   "cell_type": "code",
   "execution_count": 2,
   "metadata": {},
   "outputs": [
    {
     "name": "stderr",
     "output_type": "stream",
     "text": [
      "Found the config file in: config.json\n"
     ]
    }
   ],
   "source": [
    "from azure.ai.ml import MLClient\n",
    "from azure.identity import DefaultAzureCredential\n",
    "\n",
    "ml_client = MLClient.from_config(\n",
    "    credential=DefaultAzureCredential(),\n",
    "    path=\"config.json\",\n",
    ")"
   ]
  },
  {
   "cell_type": "code",
   "execution_count": 7,
   "metadata": {},
   "outputs": [
    {
     "data": {
      "text/plain": [
       "Model({'job_name': None, 'intellectual_property': None, 'is_anonymous': False, 'auto_increment_version': False, 'auto_delete_setting': None, 'name': 'furlanp-test-model', 'description': None, 'tags': {}, 'properties': {}, 'print_as_yaml': False, 'id': '/subscriptions/aceb381b-74dc-4f6d-b21f-c0b527db1729/resourceGroups/rg-ki-ds-s/providers/Microsoft.MachineLearningServices/workspaces/mlw-ki-ds-s/models/furlanp-test-model/versions/1', 'Resource__source_path': '', 'base_path': '/Users/FurlanP/Documents/Repos/furlanp-azure-test', 'creation_context': <azure.ai.ml.entities._system_data.SystemData object at 0x12715e870>, 'serialize': <msrest.serialization.Serializer object at 0x12715ea80>, 'version': '1', 'latest_version': None, 'path': 'azureml://subscriptions/aceb381b-74dc-4f6d-b21f-c0b527db1729/resourceGroups/rg-ki-ds-s/workspaces/mlw-ki-ds-s/datastores/workspaceblobstore/paths/LocalUpload/211b913756b6a90a4eea88203b115712/model.joblib', 'datastore': None, 'utc_time_created': None, 'flavors': None, 'arm_type': 'model_version', 'type': 'custom_model', 'stage': 'Development'})"
      ]
     },
     "execution_count": 7,
     "metadata": {},
     "output_type": "execute_result"
    }
   ],
   "source": [
    "from azure.ai.ml.entities import Model\n",
    "from azure.ai.ml.constants import AssetTypes\n",
    "\n",
    "model_name = \"furlanp-test-model\"\n",
    "\n",
    "model = Model(\n",
    "    path=\"model.joblib\",\n",
    "    type=AssetTypes.CUSTOM_MODEL,\n",
    "    name=model_name,\n",
    "    version=\"1\",\n",
    ")\n",
    "\n",
    "ml_client.models.create_or_update(model)"
   ]
  },
  {
   "cell_type": "code",
   "execution_count": 8,
   "metadata": {},
   "outputs": [
    {
     "data": {
      "text/plain": [
       "Environment({'arm_type': 'environment_version', 'latest_version': None, 'image': 'mcr.microsoft.com/azureml/openmpi4.1.0-ubuntu20.04', 'intellectual_property': None, 'is_anonymous': False, 'auto_increment_version': False, 'auto_delete_setting': None, 'name': 'furlanp-test-env', 'description': None, 'tags': {}, 'properties': {'azureml.labels': 'latest'}, 'print_as_yaml': False, 'id': '/subscriptions/aceb381b-74dc-4f6d-b21f-c0b527db1729/resourceGroups/rg-ki-ds-s/providers/Microsoft.MachineLearningServices/workspaces/mlw-ki-ds-s/environments/furlanp-test-env/versions/1', 'Resource__source_path': '', 'base_path': '/Users/FurlanP/Documents/Repos/furlanp-azure-test', 'creation_context': <azure.ai.ml.entities._system_data.SystemData object at 0x12715fd10>, 'serialize': <msrest.serialization.Serializer object at 0x12715e840>, 'version': '1', 'conda_file': {'channels': ['defaults'], 'dependencies': ['python=3.11', 'pip', {'pip': ['pandas', 'numpy', 'scikit-learn', 'joblib', 'azureml-inference-server-http']}], 'name': 'furlanp-test-env'}, 'build': None, 'inference_config': None, 'os_type': 'Linux', 'conda_file_path': None, 'path': None, 'datastore': None, 'upload_hash': None, 'translated_conda_file': '{\\n  \"channels\": [\\n    \"defaults\"\\n  ],\\n  \"dependencies\": [\\n    \"python=3.11\",\\n    \"pip\",\\n    {\\n      \"pip\": [\\n        \"pandas\",\\n        \"numpy\",\\n        \"scikit-learn\",\\n        \"joblib\",\\n        \"azureml-inference-server-http\"\\n      ]\\n    }\\n  ],\\n  \"name\": \"furlanp-test-env\"\\n}'})"
      ]
     },
     "execution_count": 8,
     "metadata": {},
     "output_type": "execute_result"
    }
   ],
   "source": [
    "from azure.ai.ml.entities import Environment\n",
    "\n",
    "env_name = \"furlanp-test-env\"\n",
    "\n",
    "env = Environment(\n",
    "    name=env_name,\n",
    "    conda_file=\"conda.yaml\",\n",
    "    image=\"mcr.microsoft.com/azureml/openmpi4.1.0-ubuntu20.04\",\n",
    "    version=\"1\",\n",
    ")\n",
    "\n",
    "ml_client.environments.create_or_update(env)"
   ]
  },
  {
   "cell_type": "markdown",
   "metadata": {},
   "source": [
    "#### Change image build to compute!\n",
    "By default azure uses serverless to build environment images. \\\n",
    "We need to change that to one of the compute nodes (must be CPU) from the workspace. \n",
    "\n",
    "For example:\n",
    "\n",
    "az login \\\n",
    "az ml workspace update --name mlw-ki-ds-s --resource-group rg-ki-ds-s --image-build-compute FurlanP2"
   ]
  },
  {
   "cell_type": "code",
   "execution_count": 9,
   "metadata": {},
   "outputs": [],
   "source": [
    "from azure.ai.ml.entities import ManagedOnlineEndpoint\n",
    "\n",
    "endpoint_name = \"furlanp-test-endpoint\"\n",
    "\n",
    "endpoint = ManagedOnlineEndpoint(\n",
    "    name=endpoint_name,\n",
    "    description=\"furlanp-test-endpoint\",\n",
    "    auth_mode=\"key\",\n",
    ")\n",
    "\n",
    "endpoint = ml_client.online_endpoints.begin_create_or_update(endpoint).result()"
   ]
  },
  {
   "cell_type": "code",
   "execution_count": 10,
   "metadata": {},
   "outputs": [
    {
     "name": "stderr",
     "output_type": "stream",
     "text": [
      "Check: endpoint furlanp-test-endpoint exists\n",
      "\u001b[32mUploading furlanp-azure-test (0.07 MBs): 100%|██████████| 71735/71735 [00:00<00:00, 140269.58it/s]\n",
      "\u001b[39m\n",
      "\n"
     ]
    },
    {
     "name": "stdout",
     "output_type": "stream",
     "text": [
      "........................................................................................................"
     ]
    }
   ],
   "source": [
    "from azure.ai.ml.entities import ManagedOnlineDeployment\n",
    "from azure.ai.ml.entities import CodeConfiguration\n",
    "\n",
    "model = ml_client.models.get(name=model_name, version=1)\n",
    "env = ml_client.environments.get(name=env_name, version=1)\n",
    "\n",
    "deployment_name = \"furlanp-test-deployment\"\n",
    "\n",
    "deployment = ManagedOnlineDeployment(\n",
    "    name=deployment_name,\n",
    "    endpoint_name=endpoint_name,\n",
    "    model=model,\n",
    "    environment=env,\n",
    "    code_configuration=CodeConfiguration(\".\", \"score.py\"), \n",
    "    egress_public_network_access=\"disabled\",\n",
    ")\n",
    "\n",
    "deployment = ml_client.online_deployments.begin_create_or_update(deployment).result()"
   ]
  },
  {
   "cell_type": "code",
   "execution_count": 12,
   "metadata": {},
   "outputs": [
    {
     "name": "stdout",
     "output_type": "stream",
     "text": [
      "(2, 15)\n"
     ]
    }
   ],
   "source": [
    "import json\n",
    "import numpy as np\n",
    "\n",
    "res = ml_client.online_endpoints.invoke(\n",
    "    endpoint_name=endpoint_name,\n",
    "    deployment_name=deployment_name,\n",
    "    request_file=\"./sample_data.json\",\n",
    ")\n",
    "\n",
    "res = json.loads(res)\n",
    "res = np.array(res)\n",
    "print(res.shape) # (2,15)"
   ]
  }
 ],
 "metadata": {
  "kernelspec": {
   "display_name": "venv",
   "language": "python",
   "name": "python3"
  },
  "language_info": {
   "codemirror_mode": {
    "name": "ipython",
    "version": 3
   },
   "file_extension": ".py",
   "mimetype": "text/x-python",
   "name": "python",
   "nbconvert_exporter": "python",
   "pygments_lexer": "ipython3",
   "version": "3.12.0"
  }
 },
 "nbformat": 4,
 "nbformat_minor": 2
}
